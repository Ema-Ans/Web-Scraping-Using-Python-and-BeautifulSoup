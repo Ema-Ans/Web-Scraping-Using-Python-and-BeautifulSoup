{
 "cells": [
  {
   "cell_type": "code",
   "execution_count": 1,
   "id": "d680ffc9-5b33-4ce9-9a23-749b91d87a31",
   "metadata": {},
   "outputs": [],
   "source": [
    "#to request the data from the web servers\n",
    "import requests as r\n",
    "#works with a parser, to extract data from HTML \n",
    "from bs4 import BeautifulSoup as bs\n",
    "from scraping import *"
   ]
  },
  {
   "cell_type": "code",
   "execution_count": 2,
   "id": "61ecfb7e-e00c-49fc-b158-b62eb4fc32c1",
   "metadata": {},
   "outputs": [],
   "source": [
    "#to load the webpage content from the url\n",
    "webpag = r.get(\"https://attack.mitre.org/groups/\")"
   ]
  },
  {
   "cell_type": "code",
   "execution_count": 3,
   "id": "85a5ecce-c3be-4975-8a18-bef776c39210",
   "metadata": {},
   "outputs": [],
   "source": [
    "#convert to beautifulsoup\n",
    "soup = bs(webpag.content,\"html.parser\")"
   ]
  },
  {
   "cell_type": "code",
   "execution_count": 4,
   "id": "07eb0c72-ffef-49db-bc40-896c47d563f4",
   "metadata": {},
   "outputs": [],
   "source": [
    "#tableHead = soup.thead\n",
    "#tableHead  (if u want to get the tablehead)"
   ]
  },
  {
   "cell_type": "code",
   "execution_count": 5,
   "id": "925cb94e-063b-42bd-8031-0fc795e53ee4",
   "metadata": {},
   "outputs": [],
   "source": [
    "#if u want to extract the rowHeaders from the table head\n",
    "# rowHeaders = []\n",
    "# for x in tableHead.find_all('tr'):\n",
    "#     for y in x.find_all('th'):\n",
    "#         rowHeaders.append(y.text)\n",
    "# rowHeaders"
   ]
  },
  {
   "cell_type": "code",
   "execution_count": 6,
   "id": "d04e25a2-0947-4610-b599-3cc6eb504104",
   "metadata": {},
   "outputs": [],
   "source": [
    "#CODE JUNK -  FOR MY FUTURE REF\n",
    "# urlS = []\n",
    "# tableBody = soup.tbody\n",
    "#THIS IS HOW YOU CAN GET ALL THE LINKS FROM A Table.body\n",
    "# urls_list = tableBody.find_all('a')\n",
    "# print(urls_list)\n",
    "# for link in urls_list:\n",
    "#     href = link.get('href')\n",
    "#     urls.append(href)\n",
    "# urls2 = set(urls)\n",
    "# urls2List = list(urls2)\n",
    "# firstelem = urls2List[0]\n",
    "# newUrls = []\n",
    "# for elem in urls2List:\n",
    "#     if elem[:6] == '/group':\n",
    "#         newUrls.append(elem)\n",
    "#newUrls is the finalList of my Urls.\n",
    "#newUrls\n",
    "\n",
    "### CODE STARTS FROM HERE ###\n",
    "table1 = soup.find('table',{'class': \"table table-bordered table-alternate mt-2\"})\n",
    "\n",
    "#if you want to find the headers in the table\n",
    "# headers = []\n",
    "# for i in table1.find_all('th'):\n",
    "#     title = i.text\n",
    "#     headers.append(title)\n",
    "# headers"
   ]
  },
  {
   "cell_type": "code",
   "execution_count": 7,
   "id": "b367b0f8-beab-49bd-89c2-207be2a8763e",
   "metadata": {},
   "outputs": [
    {
     "name": "stdout",
     "output_type": "stream",
     "text": [
      "[(' G0018 ', '/groups/G0018'), (' G0130 ', '/groups/G0130'), (' G1000 ', '/groups/G1000'), (' G0138 ', '/groups/G0138'), (' G1007 ', '/groups/G1007'), (' G0099 ', '/groups/G0099'), (' G0006 ', '/groups/G0006'), (' G0005 ', '/groups/G0005'), (' G0023 ', '/groups/G0023'), (' G0025 ', '/groups/G0025'), (' G0026 ', '/groups/G0026'), (' G0073 ', '/groups/G0073'), (' G0007 ', '/groups/G0007'), (' G0016 ', '/groups/G0016'), (' G0022 ', '/groups/G0022'), (' G0013 ', '/groups/G0013'), (' G0050 ', '/groups/G0050'), (' G0064 ', '/groups/G0064'), (' G0067 ', '/groups/G0067'), (' G0082 ', '/groups/G0082'), (' G0087 ', '/groups/G0087'), (' G0096 ', '/groups/G0096'), (' G0143 ', '/groups/G0143'), (' G0001 ', '/groups/G0001'), (' G0135 ', '/groups/G0135'), (' G1002 ', '/groups/G1002'), (' G0063 ', '/groups/G0063'), (' G0098 ', '/groups/G0098'), (' G0108 ', '/groups/G0108'), (' G0097 ', '/groups/G0097'), (' G0060 ', '/groups/G0060'), (' G0008 ', '/groups/G0008'), (' G0114 ', '/groups/G0114'), (' G0003 ', '/groups/G0003'), (' G0080 ', '/groups/G0080'), (' G0142 ', '/groups/G0142'), (' G0052 ', '/groups/G0052'), (' G1012 ', '/groups/G1012'), (' G0070 ', '/groups/G0070'), (' G0012 ', '/groups/G0012'), (' G0079 ', '/groups/G0079'), (' G0105 ', '/groups/G0105'), (' G0009 ', '/groups/G0009'), (' G0035 ', '/groups/G0035'), (' G0017 ', '/groups/G0017'), (' G1006 ', '/groups/G1006'), (' G0066 ', '/groups/G0066'), (' G1003 ', '/groups/G1003'), (' G0020 ', '/groups/G0020'), (' G0120 ', '/groups/G0120'), (' G1011 ', '/groups/G1011'), (' G0137 ', '/groups/G0137'), (' G0051 ', '/groups/G0051'), (' G0085 ', '/groups/G0085'), (' G0053 ', '/groups/G0053'), (' G0037 ', '/groups/G0037'), (' G0046 ', '/groups/G0046'), (' G0061 ', '/groups/G0061'), (' G0117 ', '/groups/G0117'), (' G0093 ', '/groups/G0093'), (' G0084 ', '/groups/G0084'), (' G0047 ', '/groups/G0047'), (' G0036 ', '/groups/G0036'), (' G0115 ', '/groups/G0115'), (' G0078 ', '/groups/G0078'), (' G0043 ', '/groups/G0043'), (' G0125 ', '/groups/G0125'), (' G1001 ', '/groups/G1001'), (' G0126 ', '/groups/G0126'), (' G0100 ', '/groups/G0100'), (' G0136 ', '/groups/G0136'), (' G0119 ', '/groups/G0119'), (' G0004 ', '/groups/G0004'), (' G0094 ', '/groups/G0094'), (' G1004 ', '/groups/G1004'), (' G0032 ', '/groups/G0032'), (' G0140 ', '/groups/G0140'), (' G0077 ', '/groups/G0077'), (' G0065 ', '/groups/G0065'), (' G0030 ', '/groups/G0030'), (' G1014 ', '/groups/G1014'), (' G0095 ', '/groups/G0095'), (' G0059 ', '/groups/G0059'), (' G0045 ', '/groups/G0045'), (' G1013 ', '/groups/G1013'), (' G0002 ', '/groups/G0002'), (' G0103 ', '/groups/G0103'), (' G0021 ', '/groups/G0021'), (' G1009 ', '/groups/G1009'), (' G0069 ', '/groups/G0069'), (' G0129 ', '/groups/G0129'), (' G0019 ', '/groups/G0019'), (' G0055 ', '/groups/G0055'), (' G0133 ', '/groups/G0133'), (' G0049 ', '/groups/G0049'), (' G0071 ', '/groups/G0071'), (' G0040 ', '/groups/G0040'), (' G0011 ', '/groups/G0011'), (' G0068 ', '/groups/G0068'), (' G1005 ', '/groups/G1005'), (' G0033 ', '/groups/G0033'), (' G0056 ', '/groups/G0056'), (' G0024 ', '/groups/G0024'), (' G0075 ', '/groups/G0075'), (' G0106 ', '/groups/G0106'), (' G0048 ', '/groups/G0048'), (' G0034 ', '/groups/G0034'), (' G0029 ', '/groups/G0029'), (' G1008 ', '/groups/G1008'), (' G0121 ', '/groups/G0121'), (' G0091 ', '/groups/G0091'), (' G0122 ', '/groups/G0122'), (' G0083 ', '/groups/G0083'), (' G0054 ', '/groups/G0054'), (' G0038 ', '/groups/G0038'), (' G0041 ', '/groups/G0041'), (' G0039 ', '/groups/G0039'), (' G0062 ', '/groups/G0062'), (' G0092 ', '/groups/G0092'), (' G0127 ', '/groups/G0127'), (' G0139 ', '/groups/G0139'), (' G0088 ', '/groups/G0088'), (' G0089 ', '/groups/G0089'), (' G0028 ', '/groups/G0028'), (' G0027 ', '/groups/G0027'), (' G0076 ', '/groups/G0076'), (' G0131 ', '/groups/G0131'), (' G0134 ', '/groups/G0134'), (' G0081 ', '/groups/G0081'), (' G0010 ', '/groups/G0010'), (' G0123 ', '/groups/G0123'), (' G0107 ', '/groups/G0107'), (' G0124 ', '/groups/G0124'), (' G0112 ', '/groups/G0112'), (' G0044 ', '/groups/G0044'), (' G0090 ', '/groups/G0090'), (' G0102 ', '/groups/G0102'), (' G0128 ', '/groups/G0128')]\n"
     ]
    }
   ],
   "source": [
    "tableValues = []\n",
    "for x in table1.find_all('tr')[1:]:\n",
    "    #convert it to sets, to get rid of the duplicates\n",
    "    #because the same name is referenced multiple times \n",
    "    td_tags = list(set(x.find_all('a')))\n",
    "    td_val = [y for y in td_tags]\n",
    "    tableValues.append(td_val)\n",
    "#contains [[<a href=\"/software/S0012\">PoisonIvy</a, <a href=\"/groups/G0018\"> G0018 </a>,..] ...] for each row\n",
    "tableValues\n",
    "\n",
    "nameList = []\n",
    "#from that raw html list, we extract the names i.e., texts only for each group\n",
    "for elem in tableValues:\n",
    "    my_val = [y.text for y in elem]\n",
    "    nameList.append(list(set(my_val)))\n",
    "\n",
    "#for each of the elem in html list, we extract its link\n",
    "url_List = []\n",
    "for elem in tableValues:\n",
    "    my_urls = [x.get('href') for x in elem]\n",
    "    url_List.append(list(set(my_urls)))\n",
    "\n",
    "#only want names with ID's i.e., G****\n",
    "clean_nameList = []\n",
    "for x in nameList:\n",
    "    for y in x:\n",
    "        if y[1:3] ==  \"G0\" or y[1:3] == \"G1\":\n",
    "            clean_nameList.append(y)\n",
    "\n",
    "#only want the links for the ID's G****\n",
    "\n",
    "#only want the links for the ID's G****\n",
    "clean_urlList = []\n",
    "for i in range(len(url_List)):\n",
    "    elem = url_List[i]\n",
    "    name = clean_nameList[i][1:-1]\n",
    "    for x in elem:\n",
    "        if x[-5:] == name:\n",
    "            clean_urlList.append(x)\n",
    "            \n",
    "#now zip the two lists\n",
    "group_list = list(zip(clean_nameList, clean_urlList))\n",
    "print(group_list)\n",
    "# print(final_list[0][1])\n",
    "\n"
   ]
  },
  {
   "cell_type": "code",
   "execution_count": 9,
   "id": "6920f10b-ad7f-4c9d-9aa0-47f35ad647d5",
   "metadata": {},
   "outputs": [
    {
     "name": "stdout",
     "output_type": "stream",
     "text": [
      " G0018 \n",
      " G0130 \n",
      " G1000 \n",
      "NONE\n",
      " G0138 \n",
      " G1007 \n",
      " G0099 \n",
      " G0006 \n",
      " G0005 \n",
      " G0023 \n"
     ]
    },
    {
     "ename": "KeyboardInterrupt",
     "evalue": "",
     "output_type": "error",
     "traceback": [
      "\u001b[1;31m---------------------------------------------------------------------------\u001b[0m",
      "\u001b[1;31mKeyboardInterrupt\u001b[0m                         Traceback (most recent call last)",
      "Cell \u001b[1;32mIn[9], line 5\u001b[0m\n\u001b[0;32m      3\u001b[0m \u001b[38;5;28mprint\u001b[39m(group[\u001b[38;5;241m0\u001b[39m])\n\u001b[0;32m      4\u001b[0m link \u001b[38;5;241m=\u001b[39m make_Link(group[\u001b[38;5;241m1\u001b[39m])\n\u001b[1;32m----> 5\u001b[0m webpage \u001b[38;5;241m=\u001b[39m r\u001b[38;5;241m.\u001b[39mget(link)\n\u001b[0;32m      6\u001b[0m soup \u001b[38;5;241m=\u001b[39m bs(webpage\u001b[38;5;241m.\u001b[39mcontent,\u001b[38;5;124m\"\u001b[39m\u001b[38;5;124mhtml.parser\u001b[39m\u001b[38;5;124m\"\u001b[39m)\n\u001b[0;32m      7\u001b[0m t_table \u001b[38;5;241m=\u001b[39m soup\u001b[38;5;241m.\u001b[39mfind(\u001b[38;5;124m'\u001b[39m\u001b[38;5;124mtable\u001b[39m\u001b[38;5;124m'\u001b[39m,{\u001b[38;5;124m'\u001b[39m\u001b[38;5;124mclass\u001b[39m\u001b[38;5;124m'\u001b[39m: \u001b[38;5;124m\"\u001b[39m\u001b[38;5;124mtable techniques-used background table-bordered\u001b[39m\u001b[38;5;124m\"\u001b[39m})\n",
      "File \u001b[1;32m~\\anaconda3\\envs\\sura23\\Lib\\site-packages\\requests\\api.py:73\u001b[0m, in \u001b[0;36mget\u001b[1;34m(url, params, **kwargs)\u001b[0m\n\u001b[0;32m     62\u001b[0m \u001b[38;5;28;01mdef\u001b[39;00m \u001b[38;5;21mget\u001b[39m(url, params\u001b[38;5;241m=\u001b[39m\u001b[38;5;28;01mNone\u001b[39;00m, \u001b[38;5;241m*\u001b[39m\u001b[38;5;241m*\u001b[39mkwargs):\n\u001b[0;32m     63\u001b[0m \u001b[38;5;250m    \u001b[39m\u001b[38;5;124mr\u001b[39m\u001b[38;5;124;03m\"\"\"Sends a GET request.\u001b[39;00m\n\u001b[0;32m     64\u001b[0m \n\u001b[0;32m     65\u001b[0m \u001b[38;5;124;03m    :param url: URL for the new :class:`Request` object.\u001b[39;00m\n\u001b[1;32m   (...)\u001b[0m\n\u001b[0;32m     70\u001b[0m \u001b[38;5;124;03m    :rtype: requests.Response\u001b[39;00m\n\u001b[0;32m     71\u001b[0m \u001b[38;5;124;03m    \"\"\"\u001b[39;00m\n\u001b[1;32m---> 73\u001b[0m     \u001b[38;5;28;01mreturn\u001b[39;00m request(\u001b[38;5;124m\"\u001b[39m\u001b[38;5;124mget\u001b[39m\u001b[38;5;124m\"\u001b[39m, url, params\u001b[38;5;241m=\u001b[39mparams, \u001b[38;5;241m*\u001b[39m\u001b[38;5;241m*\u001b[39mkwargs)\n",
      "File \u001b[1;32m~\\anaconda3\\envs\\sura23\\Lib\\site-packages\\requests\\api.py:59\u001b[0m, in \u001b[0;36mrequest\u001b[1;34m(method, url, **kwargs)\u001b[0m\n\u001b[0;32m     55\u001b[0m \u001b[38;5;66;03m# By using the 'with' statement we are sure the session is closed, thus we\u001b[39;00m\n\u001b[0;32m     56\u001b[0m \u001b[38;5;66;03m# avoid leaving sockets open which can trigger a ResourceWarning in some\u001b[39;00m\n\u001b[0;32m     57\u001b[0m \u001b[38;5;66;03m# cases, and look like a memory leak in others.\u001b[39;00m\n\u001b[0;32m     58\u001b[0m \u001b[38;5;28;01mwith\u001b[39;00m sessions\u001b[38;5;241m.\u001b[39mSession() \u001b[38;5;28;01mas\u001b[39;00m session:\n\u001b[1;32m---> 59\u001b[0m     \u001b[38;5;28;01mreturn\u001b[39;00m session\u001b[38;5;241m.\u001b[39mrequest(method\u001b[38;5;241m=\u001b[39mmethod, url\u001b[38;5;241m=\u001b[39murl, \u001b[38;5;241m*\u001b[39m\u001b[38;5;241m*\u001b[39mkwargs)\n",
      "File \u001b[1;32m~\\anaconda3\\envs\\sura23\\Lib\\site-packages\\requests\\sessions.py:587\u001b[0m, in \u001b[0;36mSession.request\u001b[1;34m(self, method, url, params, data, headers, cookies, files, auth, timeout, allow_redirects, proxies, hooks, stream, verify, cert, json)\u001b[0m\n\u001b[0;32m    582\u001b[0m send_kwargs \u001b[38;5;241m=\u001b[39m {\n\u001b[0;32m    583\u001b[0m     \u001b[38;5;124m\"\u001b[39m\u001b[38;5;124mtimeout\u001b[39m\u001b[38;5;124m\"\u001b[39m: timeout,\n\u001b[0;32m    584\u001b[0m     \u001b[38;5;124m\"\u001b[39m\u001b[38;5;124mallow_redirects\u001b[39m\u001b[38;5;124m\"\u001b[39m: allow_redirects,\n\u001b[0;32m    585\u001b[0m }\n\u001b[0;32m    586\u001b[0m send_kwargs\u001b[38;5;241m.\u001b[39mupdate(settings)\n\u001b[1;32m--> 587\u001b[0m resp \u001b[38;5;241m=\u001b[39m \u001b[38;5;28mself\u001b[39m\u001b[38;5;241m.\u001b[39msend(prep, \u001b[38;5;241m*\u001b[39m\u001b[38;5;241m*\u001b[39msend_kwargs)\n\u001b[0;32m    589\u001b[0m \u001b[38;5;28;01mreturn\u001b[39;00m resp\n",
      "File \u001b[1;32m~\\anaconda3\\envs\\sura23\\Lib\\site-packages\\requests\\sessions.py:701\u001b[0m, in \u001b[0;36mSession.send\u001b[1;34m(self, request, **kwargs)\u001b[0m\n\u001b[0;32m    698\u001b[0m start \u001b[38;5;241m=\u001b[39m preferred_clock()\n\u001b[0;32m    700\u001b[0m \u001b[38;5;66;03m# Send the request\u001b[39;00m\n\u001b[1;32m--> 701\u001b[0m r \u001b[38;5;241m=\u001b[39m adapter\u001b[38;5;241m.\u001b[39msend(request, \u001b[38;5;241m*\u001b[39m\u001b[38;5;241m*\u001b[39mkwargs)\n\u001b[0;32m    703\u001b[0m \u001b[38;5;66;03m# Total elapsed time of the request (approximately)\u001b[39;00m\n\u001b[0;32m    704\u001b[0m elapsed \u001b[38;5;241m=\u001b[39m preferred_clock() \u001b[38;5;241m-\u001b[39m start\n",
      "File \u001b[1;32m~\\anaconda3\\envs\\sura23\\Lib\\site-packages\\requests\\adapters.py:487\u001b[0m, in \u001b[0;36mHTTPAdapter.send\u001b[1;34m(self, request, stream, timeout, verify, cert, proxies)\u001b[0m\n\u001b[0;32m    484\u001b[0m     timeout \u001b[38;5;241m=\u001b[39m TimeoutSauce(connect\u001b[38;5;241m=\u001b[39mtimeout, read\u001b[38;5;241m=\u001b[39mtimeout)\n\u001b[0;32m    486\u001b[0m \u001b[38;5;28;01mtry\u001b[39;00m:\n\u001b[1;32m--> 487\u001b[0m     resp \u001b[38;5;241m=\u001b[39m conn\u001b[38;5;241m.\u001b[39murlopen(\n\u001b[0;32m    488\u001b[0m         method\u001b[38;5;241m=\u001b[39mrequest\u001b[38;5;241m.\u001b[39mmethod,\n\u001b[0;32m    489\u001b[0m         url\u001b[38;5;241m=\u001b[39murl,\n\u001b[0;32m    490\u001b[0m         body\u001b[38;5;241m=\u001b[39mrequest\u001b[38;5;241m.\u001b[39mbody,\n\u001b[0;32m    491\u001b[0m         headers\u001b[38;5;241m=\u001b[39mrequest\u001b[38;5;241m.\u001b[39mheaders,\n\u001b[0;32m    492\u001b[0m         redirect\u001b[38;5;241m=\u001b[39m\u001b[38;5;28;01mFalse\u001b[39;00m,\n\u001b[0;32m    493\u001b[0m         assert_same_host\u001b[38;5;241m=\u001b[39m\u001b[38;5;28;01mFalse\u001b[39;00m,\n\u001b[0;32m    494\u001b[0m         preload_content\u001b[38;5;241m=\u001b[39m\u001b[38;5;28;01mFalse\u001b[39;00m,\n\u001b[0;32m    495\u001b[0m         decode_content\u001b[38;5;241m=\u001b[39m\u001b[38;5;28;01mFalse\u001b[39;00m,\n\u001b[0;32m    496\u001b[0m         retries\u001b[38;5;241m=\u001b[39m\u001b[38;5;28mself\u001b[39m\u001b[38;5;241m.\u001b[39mmax_retries,\n\u001b[0;32m    497\u001b[0m         timeout\u001b[38;5;241m=\u001b[39mtimeout,\n\u001b[0;32m    498\u001b[0m         chunked\u001b[38;5;241m=\u001b[39mchunked,\n\u001b[0;32m    499\u001b[0m     )\n\u001b[0;32m    501\u001b[0m \u001b[38;5;28;01mexcept\u001b[39;00m (ProtocolError, \u001b[38;5;167;01mOSError\u001b[39;00m) \u001b[38;5;28;01mas\u001b[39;00m err:\n\u001b[0;32m    502\u001b[0m     \u001b[38;5;28;01mraise\u001b[39;00m \u001b[38;5;167;01mConnectionError\u001b[39;00m(err, request\u001b[38;5;241m=\u001b[39mrequest)\n",
      "File \u001b[1;32m~\\anaconda3\\envs\\sura23\\Lib\\site-packages\\urllib3\\connectionpool.py:703\u001b[0m, in \u001b[0;36mHTTPConnectionPool.urlopen\u001b[1;34m(self, method, url, body, headers, retries, redirect, assert_same_host, timeout, pool_timeout, release_conn, chunked, body_pos, **response_kw)\u001b[0m\n\u001b[0;32m    700\u001b[0m     \u001b[38;5;28mself\u001b[39m\u001b[38;5;241m.\u001b[39m_prepare_proxy(conn)\n\u001b[0;32m    702\u001b[0m \u001b[38;5;66;03m# Make the request on the httplib connection object.\u001b[39;00m\n\u001b[1;32m--> 703\u001b[0m httplib_response \u001b[38;5;241m=\u001b[39m \u001b[38;5;28mself\u001b[39m\u001b[38;5;241m.\u001b[39m_make_request(\n\u001b[0;32m    704\u001b[0m     conn,\n\u001b[0;32m    705\u001b[0m     method,\n\u001b[0;32m    706\u001b[0m     url,\n\u001b[0;32m    707\u001b[0m     timeout\u001b[38;5;241m=\u001b[39mtimeout_obj,\n\u001b[0;32m    708\u001b[0m     body\u001b[38;5;241m=\u001b[39mbody,\n\u001b[0;32m    709\u001b[0m     headers\u001b[38;5;241m=\u001b[39mheaders,\n\u001b[0;32m    710\u001b[0m     chunked\u001b[38;5;241m=\u001b[39mchunked,\n\u001b[0;32m    711\u001b[0m )\n\u001b[0;32m    713\u001b[0m \u001b[38;5;66;03m# If we're going to release the connection in ``finally:``, then\u001b[39;00m\n\u001b[0;32m    714\u001b[0m \u001b[38;5;66;03m# the response doesn't need to know about the connection. Otherwise\u001b[39;00m\n\u001b[0;32m    715\u001b[0m \u001b[38;5;66;03m# it will also try to release it and we'll have a double-release\u001b[39;00m\n\u001b[0;32m    716\u001b[0m \u001b[38;5;66;03m# mess.\u001b[39;00m\n\u001b[0;32m    717\u001b[0m response_conn \u001b[38;5;241m=\u001b[39m conn \u001b[38;5;28;01mif\u001b[39;00m \u001b[38;5;129;01mnot\u001b[39;00m release_conn \u001b[38;5;28;01melse\u001b[39;00m \u001b[38;5;28;01mNone\u001b[39;00m\n",
      "File \u001b[1;32m~\\anaconda3\\envs\\sura23\\Lib\\site-packages\\urllib3\\connectionpool.py:449\u001b[0m, in \u001b[0;36mHTTPConnectionPool._make_request\u001b[1;34m(self, conn, method, url, timeout, chunked, **httplib_request_kw)\u001b[0m\n\u001b[0;32m    444\u001b[0m             httplib_response \u001b[38;5;241m=\u001b[39m conn\u001b[38;5;241m.\u001b[39mgetresponse()\n\u001b[0;32m    445\u001b[0m         \u001b[38;5;28;01mexcept\u001b[39;00m \u001b[38;5;167;01mBaseException\u001b[39;00m \u001b[38;5;28;01mas\u001b[39;00m e:\n\u001b[0;32m    446\u001b[0m             \u001b[38;5;66;03m# Remove the TypeError from the exception chain in\u001b[39;00m\n\u001b[0;32m    447\u001b[0m             \u001b[38;5;66;03m# Python 3 (including for exceptions like SystemExit).\u001b[39;00m\n\u001b[0;32m    448\u001b[0m             \u001b[38;5;66;03m# Otherwise it looks like a bug in the code.\u001b[39;00m\n\u001b[1;32m--> 449\u001b[0m             six\u001b[38;5;241m.\u001b[39mraise_from(e, \u001b[38;5;28;01mNone\u001b[39;00m)\n\u001b[0;32m    450\u001b[0m \u001b[38;5;28;01mexcept\u001b[39;00m (SocketTimeout, BaseSSLError, SocketError) \u001b[38;5;28;01mas\u001b[39;00m e:\n\u001b[0;32m    451\u001b[0m     \u001b[38;5;28mself\u001b[39m\u001b[38;5;241m.\u001b[39m_raise_timeout(err\u001b[38;5;241m=\u001b[39me, url\u001b[38;5;241m=\u001b[39murl, timeout_value\u001b[38;5;241m=\u001b[39mread_timeout)\n",
      "File \u001b[1;32m<string>:3\u001b[0m, in \u001b[0;36mraise_from\u001b[1;34m(value, from_value)\u001b[0m\n",
      "File \u001b[1;32m~\\anaconda3\\envs\\sura23\\Lib\\site-packages\\urllib3\\connectionpool.py:444\u001b[0m, in \u001b[0;36mHTTPConnectionPool._make_request\u001b[1;34m(self, conn, method, url, timeout, chunked, **httplib_request_kw)\u001b[0m\n\u001b[0;32m    441\u001b[0m \u001b[38;5;28;01mexcept\u001b[39;00m \u001b[38;5;167;01mTypeError\u001b[39;00m:\n\u001b[0;32m    442\u001b[0m     \u001b[38;5;66;03m# Python 3\u001b[39;00m\n\u001b[0;32m    443\u001b[0m     \u001b[38;5;28;01mtry\u001b[39;00m:\n\u001b[1;32m--> 444\u001b[0m         httplib_response \u001b[38;5;241m=\u001b[39m conn\u001b[38;5;241m.\u001b[39mgetresponse()\n\u001b[0;32m    445\u001b[0m     \u001b[38;5;28;01mexcept\u001b[39;00m \u001b[38;5;167;01mBaseException\u001b[39;00m \u001b[38;5;28;01mas\u001b[39;00m e:\n\u001b[0;32m    446\u001b[0m         \u001b[38;5;66;03m# Remove the TypeError from the exception chain in\u001b[39;00m\n\u001b[0;32m    447\u001b[0m         \u001b[38;5;66;03m# Python 3 (including for exceptions like SystemExit).\u001b[39;00m\n\u001b[0;32m    448\u001b[0m         \u001b[38;5;66;03m# Otherwise it looks like a bug in the code.\u001b[39;00m\n\u001b[0;32m    449\u001b[0m         six\u001b[38;5;241m.\u001b[39mraise_from(e, \u001b[38;5;28;01mNone\u001b[39;00m)\n",
      "File \u001b[1;32m~\\anaconda3\\envs\\sura23\\Lib\\http\\client.py:1375\u001b[0m, in \u001b[0;36mHTTPConnection.getresponse\u001b[1;34m(self)\u001b[0m\n\u001b[0;32m   1373\u001b[0m \u001b[38;5;28;01mtry\u001b[39;00m:\n\u001b[0;32m   1374\u001b[0m     \u001b[38;5;28;01mtry\u001b[39;00m:\n\u001b[1;32m-> 1375\u001b[0m         response\u001b[38;5;241m.\u001b[39mbegin()\n\u001b[0;32m   1376\u001b[0m     \u001b[38;5;28;01mexcept\u001b[39;00m \u001b[38;5;167;01mConnectionError\u001b[39;00m:\n\u001b[0;32m   1377\u001b[0m         \u001b[38;5;28mself\u001b[39m\u001b[38;5;241m.\u001b[39mclose()\n",
      "File \u001b[1;32m~\\anaconda3\\envs\\sura23\\Lib\\http\\client.py:318\u001b[0m, in \u001b[0;36mHTTPResponse.begin\u001b[1;34m(self)\u001b[0m\n\u001b[0;32m    316\u001b[0m \u001b[38;5;66;03m# read until we get a non-100 response\u001b[39;00m\n\u001b[0;32m    317\u001b[0m \u001b[38;5;28;01mwhile\u001b[39;00m \u001b[38;5;28;01mTrue\u001b[39;00m:\n\u001b[1;32m--> 318\u001b[0m     version, status, reason \u001b[38;5;241m=\u001b[39m \u001b[38;5;28mself\u001b[39m\u001b[38;5;241m.\u001b[39m_read_status()\n\u001b[0;32m    319\u001b[0m     \u001b[38;5;28;01mif\u001b[39;00m status \u001b[38;5;241m!=\u001b[39m CONTINUE:\n\u001b[0;32m    320\u001b[0m         \u001b[38;5;28;01mbreak\u001b[39;00m\n",
      "File \u001b[1;32m~\\anaconda3\\envs\\sura23\\Lib\\http\\client.py:279\u001b[0m, in \u001b[0;36mHTTPResponse._read_status\u001b[1;34m(self)\u001b[0m\n\u001b[0;32m    278\u001b[0m \u001b[38;5;28;01mdef\u001b[39;00m \u001b[38;5;21m_read_status\u001b[39m(\u001b[38;5;28mself\u001b[39m):\n\u001b[1;32m--> 279\u001b[0m     line \u001b[38;5;241m=\u001b[39m \u001b[38;5;28mstr\u001b[39m(\u001b[38;5;28mself\u001b[39m\u001b[38;5;241m.\u001b[39mfp\u001b[38;5;241m.\u001b[39mreadline(_MAXLINE \u001b[38;5;241m+\u001b[39m \u001b[38;5;241m1\u001b[39m), \u001b[38;5;124m\"\u001b[39m\u001b[38;5;124miso-8859-1\u001b[39m\u001b[38;5;124m\"\u001b[39m)\n\u001b[0;32m    280\u001b[0m     \u001b[38;5;28;01mif\u001b[39;00m \u001b[38;5;28mlen\u001b[39m(line) \u001b[38;5;241m>\u001b[39m _MAXLINE:\n\u001b[0;32m    281\u001b[0m         \u001b[38;5;28;01mraise\u001b[39;00m LineTooLong(\u001b[38;5;124m\"\u001b[39m\u001b[38;5;124mstatus line\u001b[39m\u001b[38;5;124m\"\u001b[39m)\n",
      "File \u001b[1;32m~\\anaconda3\\envs\\sura23\\Lib\\socket.py:706\u001b[0m, in \u001b[0;36mSocketIO.readinto\u001b[1;34m(self, b)\u001b[0m\n\u001b[0;32m    704\u001b[0m \u001b[38;5;28;01mwhile\u001b[39;00m \u001b[38;5;28;01mTrue\u001b[39;00m:\n\u001b[0;32m    705\u001b[0m     \u001b[38;5;28;01mtry\u001b[39;00m:\n\u001b[1;32m--> 706\u001b[0m         \u001b[38;5;28;01mreturn\u001b[39;00m \u001b[38;5;28mself\u001b[39m\u001b[38;5;241m.\u001b[39m_sock\u001b[38;5;241m.\u001b[39mrecv_into(b)\n\u001b[0;32m    707\u001b[0m     \u001b[38;5;28;01mexcept\u001b[39;00m timeout:\n\u001b[0;32m    708\u001b[0m         \u001b[38;5;28mself\u001b[39m\u001b[38;5;241m.\u001b[39m_timeout_occurred \u001b[38;5;241m=\u001b[39m \u001b[38;5;28;01mTrue\u001b[39;00m\n",
      "File \u001b[1;32m~\\anaconda3\\envs\\sura23\\Lib\\ssl.py:1278\u001b[0m, in \u001b[0;36mSSLSocket.recv_into\u001b[1;34m(self, buffer, nbytes, flags)\u001b[0m\n\u001b[0;32m   1274\u001b[0m     \u001b[38;5;28;01mif\u001b[39;00m flags \u001b[38;5;241m!=\u001b[39m \u001b[38;5;241m0\u001b[39m:\n\u001b[0;32m   1275\u001b[0m         \u001b[38;5;28;01mraise\u001b[39;00m \u001b[38;5;167;01mValueError\u001b[39;00m(\n\u001b[0;32m   1276\u001b[0m           \u001b[38;5;124m\"\u001b[39m\u001b[38;5;124mnon-zero flags not allowed in calls to recv_into() on \u001b[39m\u001b[38;5;132;01m%s\u001b[39;00m\u001b[38;5;124m\"\u001b[39m \u001b[38;5;241m%\u001b[39m\n\u001b[0;32m   1277\u001b[0m           \u001b[38;5;28mself\u001b[39m\u001b[38;5;241m.\u001b[39m\u001b[38;5;18m__class__\u001b[39m)\n\u001b[1;32m-> 1278\u001b[0m     \u001b[38;5;28;01mreturn\u001b[39;00m \u001b[38;5;28mself\u001b[39m\u001b[38;5;241m.\u001b[39mread(nbytes, buffer)\n\u001b[0;32m   1279\u001b[0m \u001b[38;5;28;01melse\u001b[39;00m:\n\u001b[0;32m   1280\u001b[0m     \u001b[38;5;28;01mreturn\u001b[39;00m \u001b[38;5;28msuper\u001b[39m()\u001b[38;5;241m.\u001b[39mrecv_into(buffer, nbytes, flags)\n",
      "File \u001b[1;32m~\\anaconda3\\envs\\sura23\\Lib\\ssl.py:1134\u001b[0m, in \u001b[0;36mSSLSocket.read\u001b[1;34m(self, len, buffer)\u001b[0m\n\u001b[0;32m   1132\u001b[0m \u001b[38;5;28;01mtry\u001b[39;00m:\n\u001b[0;32m   1133\u001b[0m     \u001b[38;5;28;01mif\u001b[39;00m buffer \u001b[38;5;129;01mis\u001b[39;00m \u001b[38;5;129;01mnot\u001b[39;00m \u001b[38;5;28;01mNone\u001b[39;00m:\n\u001b[1;32m-> 1134\u001b[0m         \u001b[38;5;28;01mreturn\u001b[39;00m \u001b[38;5;28mself\u001b[39m\u001b[38;5;241m.\u001b[39m_sslobj\u001b[38;5;241m.\u001b[39mread(\u001b[38;5;28mlen\u001b[39m, buffer)\n\u001b[0;32m   1135\u001b[0m     \u001b[38;5;28;01melse\u001b[39;00m:\n\u001b[0;32m   1136\u001b[0m         \u001b[38;5;28;01mreturn\u001b[39;00m \u001b[38;5;28mself\u001b[39m\u001b[38;5;241m.\u001b[39m_sslobj\u001b[38;5;241m.\u001b[39mread(\u001b[38;5;28mlen\u001b[39m)\n",
      "\u001b[1;31mKeyboardInterrupt\u001b[0m: "
     ]
    }
   ],
   "source": [
    "#now create the new_webpage thing using the urls collected from above:\n",
    "for group in group_list:\n",
    "    print(group[0])\n",
    "    link = make_Link(group[1])\n",
    "    webpage = r.get(link)\n",
    "    soup = bs(webpage.content,\"html.parser\")\n",
    "    t_table = soup.find('table',{'class': \"table techniques-used background table-bordered\"})\n",
    "    techniques_List = get_techniques(t_table)\n",
    "    #print(\"techniques: \")\n",
    "    #print(techniques_List)\n",
    "    s_table = soup.find('table',{'class': \"table table-bordered table-alternate mt-2\"})\n",
    "    #print(\"softwares: \")\n",
    "    software_List = get_softwares(s_table)\n",
    "    #print(software_List)"
   ]
  },
  {
   "cell_type": "code",
   "execution_count": null,
   "id": "95668cf5-6b28-47f1-8601-b4dc098c583f",
   "metadata": {},
   "outputs": [],
   "source": []
  },
  {
   "cell_type": "code",
   "execution_count": null,
   "id": "da2f9546-ba53-4317-8660-6020a3465e46",
   "metadata": {},
   "outputs": [],
   "source": []
  },
  {
   "cell_type": "code",
   "execution_count": null,
   "id": "ecd20344-0065-429d-a0ce-2d3cb2e1db05",
   "metadata": {},
   "outputs": [],
   "source": []
  },
  {
   "cell_type": "code",
   "execution_count": null,
   "id": "c83895d5-e063-472e-8cba-c711eff682c2",
   "metadata": {},
   "outputs": [],
   "source": []
  }
 ],
 "metadata": {
  "kernelspec": {
   "display_name": "Python 3 (ipykernel)",
   "language": "python",
   "name": "python3"
  },
  "language_info": {
   "codemirror_mode": {
    "name": "ipython",
    "version": 3
   },
   "file_extension": ".py",
   "mimetype": "text/x-python",
   "name": "python",
   "nbconvert_exporter": "python",
   "pygments_lexer": "ipython3",
   "version": "3.11.3"
  }
 },
 "nbformat": 4,
 "nbformat_minor": 5
}
